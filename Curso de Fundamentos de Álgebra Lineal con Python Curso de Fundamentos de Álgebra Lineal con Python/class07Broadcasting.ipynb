{
 "cells": [
  {
   "cell_type": "code",
   "execution_count": 27,
   "id": "c4cf9d28",
   "metadata": {},
   "outputs": [],
   "source": [
    "import numpy as np\n",
    "\n",
    "escalar = 12\n",
    "vector = np.array([8,15,9])\n",
    "matrix = np.array([\n",
    "    [1,2],\n",
    "    [3,4],\n",
    "    [5,6]\n",
    "])"
   ]
  },
  {
   "cell_type": "code",
   "execution_count": 21,
   "id": "ab2f05e8",
   "metadata": {},
   "outputs": [],
   "source": [
    "def myBroadcasting(A,B): \n",
    "    \n",
    "    C = np.zeros((A.shape[0],A.shape[1]), dtype=int)\n",
    "    \n",
    "    for i in range(0,A.shape[0]):\n",
    "        for j in range(0,A.shape[1]):\n",
    "            C[i][j]=A[i][j]+B[j]\n",
    "    \n",
    "    return C"
   ]
  },
  {
   "cell_type": "code",
   "execution_count": 28,
   "id": "dc93404f",
   "metadata": {},
   "outputs": [
    {
     "name": "stdout",
     "output_type": "stream",
     "text": [
      "[[ 9 18 14]\n",
      " [10 19 15]]\n"
     ]
    }
   ],
   "source": [
    "sumMat = myBroadcasting(matrix.T,vector)\n",
    "\n",
    "print(sumMat)"
   ]
  },
  {
   "cell_type": "code",
   "execution_count": 35,
   "id": "cf80df19",
   "metadata": {},
   "outputs": [
    {
     "name": "stdout",
     "output_type": "stream",
     "text": [
      "[20 27 21]\n"
     ]
    }
   ],
   "source": [
    "broadMat = vector + escalar\n",
    "\n",
    "print(broadMat)"
   ]
  }
 ],
 "metadata": {
  "kernelspec": {
   "display_name": "Python 3",
   "language": "python",
   "name": "python3"
  },
  "language_info": {
   "codemirror_mode": {
    "name": "ipython",
    "version": 3
   },
   "file_extension": ".py",
   "mimetype": "text/x-python",
   "name": "python",
   "nbconvert_exporter": "python",
   "pygments_lexer": "ipython3",
   "version": "3.8.10"
  }
 },
 "nbformat": 4,
 "nbformat_minor": 5
}
