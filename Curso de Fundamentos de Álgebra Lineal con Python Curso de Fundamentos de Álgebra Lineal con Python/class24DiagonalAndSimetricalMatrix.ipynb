{
 "cells": [
  {
   "cell_type": "code",
   "execution_count": 1,
   "id": "086b09a6",
   "metadata": {},
   "outputs": [],
   "source": [
    "import numpy as np"
   ]
  },
  {
   "cell_type": "code",
   "execution_count": 4,
   "id": "b32adaf8",
   "metadata": {},
   "outputs": [
    {
     "name": "stdout",
     "output_type": "stream",
     "text": [
      "[[1 0 0 0 0]\n",
      " [0 2 0 0 0]\n",
      " [0 0 3 0 0]\n",
      " [0 0 0 4 0]\n",
      " [0 0 0 0 5]]\n"
     ]
    }
   ],
   "source": [
    "v1 = np.array([1,2,3,4,5])\n",
    "\n",
    "md = np.diag(v1)\n",
    "\n",
    "print(md) #Square diagonal matrix"
   ]
  },
  {
   "cell_type": "code",
   "execution_count": 8,
   "id": "3926bba4",
   "metadata": {},
   "outputs": [
    {
     "name": "stdout",
     "output_type": "stream",
     "text": [
      "[[1 0 0]\n",
      " [0 2 0]\n",
      " [0 0 3]\n",
      " [0 0 0]]\n",
      "[[1 0 0 0 0]\n",
      " [0 2 0 0 0]\n",
      " [0 0 3 0 0]\n",
      " [0 0 0 4 0]]\n"
     ]
    }
   ],
   "source": [
    "print(md[0:4,0:3]) #Non-square diagonal matrix\n",
    "\n",
    "print(md[0:4,0:5])"
   ]
  },
  {
   "cell_type": "code",
   "execution_count": 13,
   "id": "e00612bc",
   "metadata": {},
   "outputs": [
    {
     "name": "stdout",
     "output_type": "stream",
     "text": [
      "[[1]\n",
      " [2]\n",
      " [3]\n",
      " [4]\n",
      " [5]]\n"
     ]
    }
   ],
   "source": [
    "v2 = np.array([[1,1,1,1,1]])\n",
    "\n",
    "print(md.dot(v2.T))"
   ]
  },
  {
   "cell_type": "code",
   "execution_count": 20,
   "id": "727a6992",
   "metadata": {},
   "outputs": [
    {
     "name": "stdout",
     "output_type": "stream",
     "text": [
      "[[ 1.          0.          0.          0.          0.        ]\n",
      " [ 0.          0.5         0.          0.          0.        ]\n",
      " [ 0.          0.          0.33333333  0.          0.        ]\n",
      " [-0.         -0.         -0.          0.25       -0.        ]\n",
      " [ 0.          0.          0.          0.          0.2       ]]\n",
      "[[1. 0. 0. 0. 0.]\n",
      " [0. 1. 0. 0. 0.]\n",
      " [0. 0. 1. 0. 0.]\n",
      " [0. 0. 0. 1. 0.]\n",
      " [0. 0. 0. 0. 1.]]\n"
     ]
    }
   ],
   "source": [
    "print(np.linalg.inv(md)) #Inverted diagonal matrix\n",
    "\n",
    "print(md.dot(np.linalg.inv(md)))"
   ]
  },
  {
   "cell_type": "code",
   "execution_count": 23,
   "id": "7c555621",
   "metadata": {},
   "outputs": [
    {
     "name": "stdout",
     "output_type": "stream",
     "text": [
      "[[1 2 3]\n",
      " [2 4 5]\n",
      " [3 5 7]]\n",
      "[[1 2 3]\n",
      " [2 4 5]\n",
      " [3 5 7]]\n"
     ]
    }
   ],
   "source": [
    "ms = np.array([[1,2,3], #Simetrical Matrix\n",
    "               [2,4,5],\n",
    "               [3,5,7]])\n",
    "\n",
    "print(ms)\n",
    "print(ms.T)"
   ]
  },
  {
   "cell_type": "code",
   "execution_count": null,
   "id": "67e1e086",
   "metadata": {},
   "outputs": [],
   "source": []
  }
 ],
 "metadata": {
  "kernelspec": {
   "display_name": "Python 3",
   "language": "python",
   "name": "python3"
  },
  "language_info": {
   "codemirror_mode": {
    "name": "ipython",
    "version": 3
   },
   "file_extension": ".py",
   "mimetype": "text/x-python",
   "name": "python",
   "nbconvert_exporter": "python",
   "pygments_lexer": "ipython3",
   "version": "3.8.10"
  }
 },
 "nbformat": 4,
 "nbformat_minor": 5
}
