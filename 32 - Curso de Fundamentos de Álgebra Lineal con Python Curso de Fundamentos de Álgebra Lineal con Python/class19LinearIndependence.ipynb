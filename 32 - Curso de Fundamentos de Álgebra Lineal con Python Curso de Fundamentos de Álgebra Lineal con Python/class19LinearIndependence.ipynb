{
 "cells": [
  {
   "cell_type": "code",
   "execution_count": 2,
   "id": "3db74f81",
   "metadata": {},
   "outputs": [
    {
     "data": {
      "image/png": "[encoded data removed]",
      "text/plain": [
       "<Figure size 432x288 with 1 Axes>"
      ]
     },
     "metadata": {
      "needs_background": "light"
     },
     "output_type": "display_data"
    }
   ],
   "source": [
    "%matplotlib inline\n",
    "\n",
    "import numpy as np\n",
    "import matplotlib.pyplot as plt\n",
    "\n",
    "v1 = np.array([[1],[0]])\n",
    "v2 = np.array([[0],[1]])\n",
    "\n",
    "for a in range(-10,11):\n",
    "    for b in range(-10,11):\n",
    "        plt.scatter(v1[0]*a+v2[0]*b,v1[1]*a+v2[1]*b,\n",
    "                   marker = '.',\n",
    "                   color = 'orange')\n",
    "plt.xlim(-12,12)\n",
    "plt.ylim(-12,12)\n",
    "\n",
    "plt.axvline(x = 0, color = 'grey')\n",
    "plt.axhline(y = 0, color = 'grey')\n",
    "plt.show()"
   ]
  },
  {
   "cell_type": "code",
   "execution_count": 3,
   "id": "87d5afac",
   "metadata": {},
   "outputs": [
    {
     "name": "stdout",
     "output_type": "stream",
     "text": [
      "[[1 0]\n",
      " [0 1]]\n"
     ]
    }
   ],
   "source": [
    "m1 = np.array([[1,0],[0,1]])\n",
    "\n",
    "print(m1)"
   ]
  },
  {
   "cell_type": "code",
   "execution_count": 4,
   "id": "116c2cd5",
   "metadata": {},
   "outputs": [
    {
     "data": {
      "image/png": "[encoded data removed]",
      "text/plain": [
       "<Figure size 432x288 with 1 Axes>"
      ]
     },
     "metadata": {
      "needs_background": "light"
     },
     "output_type": "display_data"
    }
   ],
   "source": [
    "%matplotlib inline\n",
    "\n",
    "import numpy as np\n",
    "import matplotlib.pyplot as plt\n",
    "\n",
    "m1 = np.array([[1,0],[0,1]])\n",
    "\n",
    "for a in range(-10,11):\n",
    "    for b in range(-10,11):\n",
    "        plt.scatter(m1[0][0]*a+m1[0][1]*b,m1[1][0]*a+m1[1][1]*b,\n",
    "                   marker = '.',\n",
    "                   color = 'orange')\n",
    "plt.xlim(-12,12)\n",
    "plt.ylim(-12,12)\n",
    "\n",
    "plt.axvline(x = 0, color = 'grey')\n",
    "plt.axhline(y = 0, color = 'grey')\n",
    "plt.show()"
   ]
  },
  {
   "cell_type": "code",
   "execution_count": null,
   "id": "0d4eb2d8",
   "metadata": {},
   "outputs": [],
   "source": []
  }
 ],
 "metadata": {
  "kernelspec": {
   "display_name": "Python 3",
   "language": "python",
   "name": "python3"
  },
  "language_info": {
   "codemirror_mode": {
    "name": "ipython",
    "version": 3
   },
   "file_extension": ".py",
   "mimetype": "text/x-python",
   "name": "python",
   "nbconvert_exporter": "python",
   "pygments_lexer": "ipython3",
   "version": "3.8.10"
  }
 },
 "nbformat": 4,
 "nbformat_minor": 5
}
