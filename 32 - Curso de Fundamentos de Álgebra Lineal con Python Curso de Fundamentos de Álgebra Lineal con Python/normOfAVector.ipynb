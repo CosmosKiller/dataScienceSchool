{
 "cells": [
  {
   "cell_type": "code",
   "execution_count": 1,
   "id": "6fe9955a",
   "metadata": {},
   "outputs": [],
   "source": [
    "%matplotlib inline\n",
    "\n",
    "import numpy as np\n",
    "import matplotlib.pyplot as plt\n",
    "import seaborn as sns"
   ]
  },
  {
   "cell_type": "code",
   "execution_count": 2,
   "id": "61446c66",
   "metadata": {},
   "outputs": [
    {
     "name": "stdout",
     "output_type": "stream",
     "text": [
      "[2 7]\n",
      "[3 5]\n"
     ]
    }
   ],
   "source": [
    "v1 = np.array([2,7])\n",
    "v2 = np.array([3,5])\n",
    "\n",
    "print(v1)\n",
    "print(v2)"
   ]
  },
  {
   "cell_type": "code",
   "execution_count": 5,
   "id": "6beb154c",
   "metadata": {},
   "outputs": [
    {
     "name": "stdout",
     "output_type": "stream",
     "text": [
      "[ 5 12]\n"
     ]
    }
   ],
   "source": [
    "v1v2 = v1 + v2\n",
    "\n",
    "print(v1v2)"
   ]
  },
  {
   "cell_type": "code",
   "execution_count": 6,
   "id": "5d66f81c",
   "metadata": {},
   "outputs": [
    {
     "data": {
      "text/plain": [
       "13.0"
      ]
     },
     "execution_count": 6,
     "metadata": {},
     "output_type": "execute_result"
    }
   ],
   "source": [
    "np.linalg.norm(v1v2)"
   ]
  },
  {
   "cell_type": "code",
   "execution_count": 8,
   "id": "96a7aae2",
   "metadata": {},
   "outputs": [
    {
     "name": "stdout",
     "output_type": "stream",
     "text": [
      "True\n"
     ]
    }
   ],
   "source": [
    "# norm(v1v2) <= norm(v1) + norm(v2)\n",
    "\n",
    "norm_v1 = np.linalg.norm(v1)\n",
    "norm_v2 = np.linalg.norm(v2)\n",
    "norm_v1v2 = np.linalg.norm(v1v2)\n",
    "\n",
    "print(norm_v1v2 <= (norm_v1 + norm_v2))"
   ]
  },
  {
   "cell_type": "code",
   "execution_count": 9,
   "id": "574c7b3a",
   "metadata": {},
   "outputs": [],
   "source": [
    "v1 = np.array([0,0,2,7])\n",
    "v2 = np.array([0,0,3,5])\n",
    "\n",
    "v_aux = np.array([v1[2],v1[3],v2[2],v2[3]])\n",
    "v1v2 = np.array([0,0,5,12])"
   ]
  },
  {
   "cell_type": "code",
   "execution_count": 12,
   "id": "9bb2ca9c",
   "metadata": {},
   "outputs": [
    {
     "data": {
      "text/plain": [
       "(-0.5, 15.0)"
      ]
     },
     "execution_count": 12,
     "metadata": {},
     "output_type": "execute_result"
    },
    {
     "data": {
      "image/png": "[encoded data removed]",
      "text/plain": [
       "<Figure size 432x288 with 1 Axes>"
      ]
     },
     "metadata": {
      "needs_background": "light"
     },
     "output_type": "display_data"
    }
   ],
   "source": [
    "plt.quiver([v1[0], v_aux[0], v1v2[0]],\n",
    "           [v1[1], v_aux[1], v1v2[1]],\n",
    "           [v1[2], v_aux[2], v1v2[2]],\n",
    "           [v1[3], v_aux[3], v1v2[3]],\n",
    "           angles = 'xy', scale_units = 'xy', scale = 1,\n",
    "           color = sns.color_palette()\n",
    "          )\n",
    "\n",
    "plt.xlim(-0.5, 6)\n",
    "plt.ylim(-0.5,15)"
   ]
  },
  {
   "cell_type": "code",
   "execution_count": 13,
   "id": "e66219b0",
   "metadata": {},
   "outputs": [
    {
     "data": {
      "image/png": "[encoded data removed]",
      "text/plain": [
       "<Figure size 432x288 with 1 Axes>"
      ]
     },
     "metadata": {
      "needs_background": "light"
     },
     "output_type": "display_data"
    }
   ],
   "source": [
    "u = [0,0,1,6]\n",
    "v = [0,0,4,2]\n",
    "u_bis = [1,6,v[2],v[3]]\n",
    "w = [0,0,5,8]\n",
    "plt.quiver([u[0], u_bis[0], w[0]],\n",
    "           [u[1], u_bis[1], w[1]],\n",
    "           [u[2], u_bis[2], w[2]],\n",
    "           [u[3], u_bis[3], w[3]],\n",
    "           angles='xy', scale_units='xy', scale=1, color=sns.color_palette())\n",
    "# plt.rc('text', usetex=True)\n",
    "plt.xlim(-2, 6)\n",
    "plt.ylim(-2, 9)\n",
    "plt.axvline(x=0, color='grey')\n",
    "plt.axhline(y=0, color='grey')\n",
    "\n",
    "plt.text(-1, 3.5, r'$||\\vec{u}||$', color=sns.color_palette()[0], size=20)\n",
    "plt.text(2.5, 7.5, r'$||\\vec{v}||$', color=sns.color_palette()[1], size=20)\n",
    "plt.text(2, 2, r'$||\\vec{u}+\\vec{v}||$', color=sns.color_palette()[2], size=20)\n",
    "\n",
    "plt.show()\n",
    "plt.close()\n"
   ]
  },
  {
   "cell_type": "code",
   "execution_count": null,
   "id": "d4795c81",
   "metadata": {},
   "outputs": [],
   "source": []
  }
 ],
 "metadata": {
  "kernelspec": {
   "display_name": "Python 3",
   "language": "python",
   "name": "python3"
  },
  "language_info": {
   "codemirror_mode": {
    "name": "ipython",
    "version": 3
   },
   "file_extension": ".py",
   "mimetype": "text/x-python",
   "name": "python",
   "nbconvert_exporter": "python",
   "pygments_lexer": "ipython3",
   "version": "3.8.10"
  }
 },
 "nbformat": 4,
 "nbformat_minor": 5
}
