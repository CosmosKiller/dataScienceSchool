{
 "cells": [
  {
   "cell_type": "code",
   "execution_count": 10,
   "id": "46c842f6",
   "metadata": {},
   "outputs": [],
   "source": [
    "import numpy as np\n",
    "\n",
    "escalar = 12\n",
    "vector = np.array([8,15])\n",
    "matrix = np.array([\n",
    "    [1,2],\n",
    "    [3,4],\n",
    "    [5,6]\n",
    "])\n",
    "\n",
    "matrix_2 = np.array([\n",
    "    [7,8],\n",
    "    [9,10],\n",
    "    [11,12]\n",
    "])"
   ]
  },
  {
   "cell_type": "code",
   "execution_count": 84,
   "id": "46710d5b",
   "metadata": {},
   "outputs": [
    {
     "name": "stdout",
     "output_type": "stream",
     "text": [
      "[[ 8 30]\n",
      " [24 60]\n",
      " [40 90]]\n",
      "[[ 23  29  35]\n",
      " [ 53  67  81]\n",
      " [ 83 105 127]]\n"
     ]
    }
   ],
   "source": [
    "A = matrix * vector\n",
    "\n",
    "B = matrix.dot(matrix_2.T)\n",
    "\n",
    "print(A)\n",
    "print(B)"
   ]
  },
  {
   "cell_type": "code",
   "execution_count": 72,
   "id": "c33c7f29",
   "metadata": {},
   "outputs": [],
   "source": [
    "def myDot(A,B):\n",
    "# Where A is a matrix with m_A rows and n_A columns\n",
    "# and B is a matrix with m_B rows and n_B columns\n",
    "\n",
    "# Then dot product is only defined if m_A == n_B \n",
    "# so the shape of our new matrix C will be m_A rows and n_B columns\n",
    "    C = np.zeros((A.shape[0],B.shape[1]))\n",
    "    \n",
    "    for i in range (0,A.shape[0]):\n",
    "        for j in range (0, B.shape[1]):\n",
    "            for n in range (0,B.shape[0]):\n",
    "                C[i][j]= C[i][j] + (A[i][n]*B[n][j])\n",
    "    \n",
    "    return C"
   ]
  },
  {
   "cell_type": "code",
   "execution_count": 92,
   "id": "5c5e37ea",
   "metadata": {},
   "outputs": [],
   "source": [
    "a = np.array([[1,2,3],[4,5,6],[7,8,9],[10,11,12]])\n",
    "b = np.array([[2, 3], [5, 7], [11, 13]])"
   ]
  },
  {
   "cell_type": "code",
   "execution_count": 93,
   "id": "69d4e188",
   "metadata": {},
   "outputs": [
    {
     "name": "stdout",
     "output_type": "stream",
     "text": [
      "[[ 45.  56.]\n",
      " [ 99. 125.]\n",
      " [153. 194.]\n",
      " [207. 263.]]\n"
     ]
    }
   ],
   "source": [
    "print(myDot(a,b))"
   ]
  },
  {
   "cell_type": "code",
   "execution_count": 94,
   "id": "fa2688cd",
   "metadata": {},
   "outputs": [
    {
     "name": "stdout",
     "output_type": "stream",
     "text": [
      "[[ 45  56]\n",
      " [ 99 125]\n",
      " [153 194]\n",
      " [207 263]]\n"
     ]
    }
   ],
   "source": [
    "print(np.dot(a,b))"
   ]
  },
  {
   "cell_type": "code",
   "execution_count": null,
   "id": "3591ee95",
   "metadata": {},
   "outputs": [],
   "source": []
  }
 ],
 "metadata": {
  "kernelspec": {
   "display_name": "Python 3",
   "language": "python",
   "name": "python3"
  },
  "language_info": {
   "codemirror_mode": {
    "name": "ipython",
    "version": 3
   },
   "file_extension": ".py",
   "mimetype": "text/x-python",
   "name": "python",
   "nbconvert_exporter": "python",
   "pygments_lexer": "ipython3",
   "version": "3.8.10"
  }
 },
 "nbformat": 4,
 "nbformat_minor": 5
}
