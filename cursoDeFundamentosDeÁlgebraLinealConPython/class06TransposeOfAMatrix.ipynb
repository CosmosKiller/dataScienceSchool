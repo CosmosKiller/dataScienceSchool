{
 "cells": [
  {
   "cell_type": "code",
   "execution_count": 1,
   "id": "4d2114f6",
   "metadata": {},
   "outputs": [],
   "source": [
    "import numpy as np"
   ]
  },
  {
   "cell_type": "code",
   "execution_count": 58,
   "id": "0b080460",
   "metadata": {},
   "outputs": [],
   "source": [
    "escalar = 12\n",
    "vector = np.array([1,2,3])\n",
    "matrix = np.array([\n",
    "    [1,2],\n",
    "    [3,4],\n",
    "    [5,6]\n",
    "])\n",
    "tensor = np.array([\n",
    "    [[1,2,3],[4,5,6],[7,8,9]],\n",
    "    [[11,12,13],[14,15,16],[17,18,19]],\n",
    "    [[21,22,23],[24,25,26],[27,28,29]],\n",
    "    [[31,32,33],[34,35,36],[37,38,39]]\n",
    "])"
   ]
  },
  {
   "cell_type": "code",
   "execution_count": 14,
   "id": "825bd93a",
   "metadata": {},
   "outputs": [
    {
     "name": "stdout",
     "output_type": "stream",
     "text": [
      "[[1 2]\n",
      " [3 4]\n",
      " [5 6]]\n"
     ]
    }
   ],
   "source": [
    "print(matrix)"
   ]
  },
  {
   "cell_type": "code",
   "execution_count": 15,
   "id": "da93577b",
   "metadata": {},
   "outputs": [
    {
     "name": "stdout",
     "output_type": "stream",
     "text": [
      "[[1 3 5]\n",
      " [2 4 6]]\n"
     ]
    }
   ],
   "source": [
    "matrix_t=matrix.T\n",
    "\n",
    "print(matrix_t)"
   ]
  },
  {
   "cell_type": "code",
   "execution_count": 16,
   "id": "c3841b82",
   "metadata": {},
   "outputs": [
    {
     "name": "stdout",
     "output_type": "stream",
     "text": [
      "[1 2 3]\n"
     ]
    }
   ],
   "source": [
    "print(vector)"
   ]
  },
  {
   "cell_type": "code",
   "execution_count": 18,
   "id": "1af37910",
   "metadata": {},
   "outputs": [
    {
     "name": "stdout",
     "output_type": "stream",
     "text": [
      "[1 2 3]\n"
     ]
    }
   ],
   "source": [
    "vector_t=vector.T\n",
    "\n",
    "print(vector_t)"
   ]
  },
  {
   "cell_type": "code",
   "execution_count": 19,
   "id": "bd19c69d",
   "metadata": {},
   "outputs": [
    {
     "name": "stdout",
     "output_type": "stream",
     "text": [
      "[[[ 1  2  3]\n",
      "  [ 4  5  6]\n",
      "  [ 7  8  9]]\n",
      "\n",
      " [[11 12 13]\n",
      "  [14 15 16]\n",
      "  [17 18 19]]\n",
      "\n",
      " [[21 22 23]\n",
      "  [24 25 26]\n",
      "  [27 28 29]]\n",
      "\n",
      " [[31 32 33]\n",
      "  [34 35 36]\n",
      "  [37 38 39]]]\n"
     ]
    }
   ],
   "source": [
    "print(tensor)"
   ]
  },
  {
   "cell_type": "code",
   "execution_count": 20,
   "id": "8d0271e5",
   "metadata": {},
   "outputs": [
    {
     "name": "stdout",
     "output_type": "stream",
     "text": [
      "[[[ 1 11 21 31]\n",
      "  [ 4 14 24 34]\n",
      "  [ 7 17 27 37]]\n",
      "\n",
      " [[ 2 12 22 32]\n",
      "  [ 5 15 25 35]\n",
      "  [ 8 18 28 38]]\n",
      "\n",
      " [[ 3 13 23 33]\n",
      "  [ 6 16 26 36]\n",
      "  [ 9 19 29 39]]]\n"
     ]
    }
   ],
   "source": [
    "tensor_t = tensor.T\n",
    "\n",
    "print(tensor_t)"
   ]
  },
  {
   "cell_type": "code",
   "execution_count": 23,
   "id": "3d140160",
   "metadata": {},
   "outputs": [],
   "source": [
    "matrix_2 = np.array([\n",
    "    [7,8],\n",
    "    [9,10],\n",
    "    [11,12]\n",
    "])"
   ]
  },
  {
   "cell_type": "code",
   "execution_count": 52,
   "id": "d3d60dd0",
   "metadata": {},
   "outputs": [
    {
     "name": "stdout",
     "output_type": "stream",
     "text": [
      "[[ 8 10]\n",
      " [12 14]\n",
      " [16 18]]\n"
     ]
    }
   ],
   "source": [
    "C = matrix + matrix_2\n",
    "\n",
    "print(C)"
   ]
  },
  {
   "cell_type": "code",
   "execution_count": 48,
   "id": "a56e5709",
   "metadata": {},
   "outputs": [],
   "source": [
    "def matrixSum(A,B): # Matrix addition using .shape\n",
    "    for i in range(0,A.shape[0]):\n",
    "        for j in range(0,A.shape[1]):\n",
    "            C[i][j]=A[i][j]+B[i][j]\n",
    "    \n",
    "    return C"
   ]
  },
  {
   "cell_type": "code",
   "execution_count": 49,
   "id": "c8a26a5c",
   "metadata": {},
   "outputs": [
    {
     "name": "stdout",
     "output_type": "stream",
     "text": [
      "[[ 8 10]\n",
      " [12 14]\n",
      " [16 18]]\n"
     ]
    }
   ],
   "source": [
    "matsum = matrixSum(matrix,matrix_2)\n",
    "\n",
    "print(matsum)"
   ]
  },
  {
   "cell_type": "code",
   "execution_count": 50,
   "id": "fa854f00",
   "metadata": {},
   "outputs": [],
   "source": [
    "def matrixSum(A,B): # Matrix addition using len()\n",
    "    for i in range(0,len(A)):\n",
    "        for j in range(0,len(A.T)):\n",
    "            C[i][j]=A[i][j]+B[i][j]\n",
    "    \n",
    "    return C"
   ]
  },
  {
   "cell_type": "code",
   "execution_count": 51,
   "id": "f09d47f0",
   "metadata": {},
   "outputs": [
    {
     "name": "stdout",
     "output_type": "stream",
     "text": [
      "[[ 8 10]\n",
      " [12 14]\n",
      " [16 18]]\n"
     ]
    }
   ],
   "source": [
    "matsum_2 = matrixSum(matrix,matrix_2)\n",
    "\n",
    "print(matsum_2)"
   ]
  },
  {
   "cell_type": "code",
   "execution_count": 56,
   "id": "df5b613a",
   "metadata": {},
   "outputs": [],
   "source": [
    "def matrixAddScalar(A,B): # Where A is a Matrix and B an scalar\n",
    "    for i in range(0,len(A)):\n",
    "         for j in range(0,len(A.T)):\n",
    "            C[i][j]=A[i][j]+B\n",
    "    \n",
    "    return C"
   ]
  },
  {
   "cell_type": "code",
   "execution_count": 59,
   "id": "5ba6008f",
   "metadata": {},
   "outputs": [
    {
     "name": "stdout",
     "output_type": "stream",
     "text": [
      "[[13 14]\n",
      " [15 16]\n",
      " [17 18]]\n"
     ]
    }
   ],
   "source": [
    "matnscalar = matrixAddScalar(matrix,escalar)\n",
    "\n",
    "print(matnscalar)"
   ]
  }
 ],
 "metadata": {
  "kernelspec": {
   "display_name": "Python 3",
   "language": "python",
   "name": "python3"
  },
  "language_info": {
   "codemirror_mode": {
    "name": "ipython",
    "version": 3
   },
   "file_extension": ".py",
   "mimetype": "text/x-python",
   "name": "python",
   "nbconvert_exporter": "python",
   "pygments_lexer": "ipython3",
   "version": "3.8.10"
  }
 },
 "nbformat": 4,
 "nbformat_minor": 5
}
