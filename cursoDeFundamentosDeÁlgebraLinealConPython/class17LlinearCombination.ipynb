{
 "cells": [
  {
   "cell_type": "code",
   "execution_count": 1,
   "id": "d57c236b",
   "metadata": {},
   "outputs": [],
   "source": [
    "%matplotlib inline\n",
    "\n",
    "import numpy as np\n",
    "import matplotlib.pyplot as plt"
   ]
  },
  {
   "cell_type": "code",
   "execution_count": 26,
   "id": "af30963d",
   "metadata": {},
   "outputs": [],
   "source": [
    "%run \"auxFunctions/vectorPlot.ipynb\""
   ]
  },
  {
   "cell_type": "code",
   "execution_count": 17,
   "id": "368d0d7a",
   "metadata": {},
   "outputs": [],
   "source": [
    "v1 = np.array([1,0])\n",
    "v2 = np.array([0,1])"
   ]
  },
  {
   "cell_type": "code",
   "execution_count": 19,
   "id": "68acdaa2",
   "metadata": {},
   "outputs": [],
   "source": [
    "v1v2 = 2*v1 + 3*v2\n",
    "\n",
    "#Using the linear combination of two vectors we can describe the whole R2 space (in this case)"
   ]
  },
  {
   "cell_type": "code",
   "execution_count": 20,
   "id": "f007f05e",
   "metadata": {},
   "outputs": [
    {
     "name": "stdout",
     "output_type": "stream",
     "text": [
      "[2 3]\n"
     ]
    }
   ],
   "source": [
    "print(v1v2)"
   ]
  },
  {
   "cell_type": "code",
   "execution_count": 27,
   "id": "a9c5a7a8",
   "metadata": {},
   "outputs": [
    {
     "data": {
      "text/plain": [
       "(-1.0, 43.0)"
      ]
     },
     "execution_count": 27,
     "metadata": {},
     "output_type": "execute_result"
    },
    {
     "data": {
      "image/png": "[encoded data removed]",
      "text/plain": [
       "<Figure size 432x288 with 1 Axes>"
      ]
     },
     "metadata": {
      "needs_background": "light"
     },
     "output_type": "display_data"
    }
   ],
   "source": [
    "vectorPlot([v1,v2,v1v2],['red','blue','green'],1)\n",
    "plt.xlim(-1,12)\n",
    "plt.ylim(-1,43)"
   ]
  },
  {
   "cell_type": "code",
   "execution_count": 25,
   "id": "5a768e1f",
   "metadata": {},
   "outputs": [
    {
     "data": {
      "image/png": "[encoded data removed]",
      "text/plain": [
       "<Figure size 432x288 with 1 Axes>"
      ]
     },
     "metadata": {
      "needs_background": "light"
     },
     "output_type": "display_data"
    }
   ],
   "source": [
    "for a in range(-10,11):\n",
    "    for b in range(-10,11):\n",
    "        plt.scatter(v1[0]*a+v2[0]*b,v1[1]*a+v2[1]*b,\n",
    "                   marker = '.',\n",
    "                   color = 'orange')\n",
    "plt.xlim(-12,12)\n",
    "plt.ylim(-12,12)\n",
    "\n",
    "plt.axvline(x = 0, color = 'grey')\n",
    "plt.axhline(y = 0, color = 'grey')\n",
    "plt.show()"
   ]
  },
  {
   "cell_type": "code",
   "execution_count": null,
   "id": "88fe9b27",
   "metadata": {},
   "outputs": [],
   "source": []
  }
 ],
 "metadata": {
  "kernelspec": {
   "display_name": "Python 3",
   "language": "python",
   "name": "python3"
  },
  "language_info": {
   "codemirror_mode": {
    "name": "ipython",
    "version": 3
   },
   "file_extension": ".py",
   "mimetype": "text/x-python",
   "name": "python",
   "nbconvert_exporter": "python",
   "pygments_lexer": "ipython3",
   "version": "3.8.10"
  }
 },
 "nbformat": 4,
 "nbformat_minor": 5
}
